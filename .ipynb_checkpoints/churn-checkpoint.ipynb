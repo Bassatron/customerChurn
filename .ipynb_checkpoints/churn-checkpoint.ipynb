{
 "cells": [
  {
   "cell_type": "markdown",
   "metadata": {},
   "source": [
    "# Predicting Customer Churn\n",
    "\n",
    "Replicating the findings by Denis Batalov at https://aws.amazon.com/blogs/machine-learning/predicting-customer-churn-with-amazon-machine-learning/. Denis's initial work was done using the AWS ML service, but I will use sklearn's library for my modeling.\n",
    "\n",
    "The goal of this project is to predict whether a customer will churn away from a mobile phone operator. "
   ]
  },
  {
   "cell_type": "markdown",
   "metadata": {},
   "source": [
    "**Attributes**\n",
    "* State: the US state in which the customer resides, indicated by a two-letter abbreviation; for example, OH or NJ\n",
    "* Account Length: the number of days that this account has been active\n",
    "* Area Code: the three-digit area code of the corresponding customer’s phone number\n",
    "* Phone: the remaining seven-digit phone number\n",
    "* Int’l Plan: whether the customer has an international calling plan: yes/no\n",
    "* VMail Plan: whether the customer has a voice mail feature: yes/no\n",
    "* VMail Message: presumably the average number of voice mail messages per month\n",
    "* Day Mins: the total number of calling minutes used during the day\n",
    "* Day Calls: the total number of calls placed during the day\n",
    "* Day Charge: the billed cost of daytime calls\n",
    "* Eve Mins, Eve Calls, Eve Charge: the billed cost for calls placed during the evening\n",
    "* Night Mins, Night Calls, Night Charge: the billed cost for calls placed during nighttime\n",
    "* Intl Mins, Intl Calls, Intl Charge: the billed cost for international calls\n",
    "* CustServ Calls: the number of calls placed to Customer Service\n",
    "* Churn?: whether the customer left the service: true/false\n",
    "\n",
    "The last attribute, Churn?, is our outcome attribute that we are trying to predcit using binary classification."
   ]
  },
  {
   "cell_type": "markdown",
   "metadata": {},
   "source": [
    "## Data Preparation"
   ]
  },
  {
   "cell_type": "code",
   "execution_count": 1,
   "metadata": {},
   "outputs": [],
   "source": [
    "# Import libraries\n",
    "import pandas as pd\n",
    "import numpy as np\n",
    "import seaborn as sns\n",
    "import matplotlib.pyplot as plt\n",
    "\n",
    "from sklearn.model_selection import train_test_split\n",
    "from sklearn.linear_model import LogisticRegression\n",
    "from sklearn.metrics import confusion_matrix\n",
    "from sklearn.tree import DecisionTreeClassifier\n",
    "from xgboost import XGBClassifier\n",
    "from sklearn.model_selection import cross_val_score\n",
    "from sklearn.model_selection import cross_val_predict\n",
    "from sklearn.ensemble import RandomForestClassifier\n",
    "from sklearn.preprocessing import MinMaxScaler"
   ]
  },
  {
   "cell_type": "code",
   "execution_count": 2,
   "metadata": {},
   "outputs": [],
   "source": [
    "# Load churn data\n",
    "churn = pd.read_csv('data/churn.txt')\n",
    "\n",
    "# Clean data\n",
    "churn['Churn?'] = churn['Churn?'].str.replace('.$', '') # Remove '.' from end of True/False values\n",
    "churn.columns = churn.columns.str.replace(' ', '_') # Replace ' ' with '_'\n",
    "churn.columns = churn.columns.str.replace(\"'\", \"\") # Remove \"'\" special character\n",
    "churn['Intl_Plan'] = churn.Intl_Plan.map(dict(yes=True, no=False)) # Convert yes/no to Boolean value\n",
    "churn['VMail_Plan'] = churn.VMail_Plan.map(dict(yes=True, no=False)) # Convert yes/no to Boolean value\n",
    "churn['Churn?'] = churn['Churn?'] == 'True' # Convert object to Boolean values"
   ]
  },
  {
   "cell_type": "markdown",
   "metadata": {},
   "source": [
    "## EDA"
   ]
  },
  {
   "cell_type": "code",
   "execution_count": 3,
   "metadata": {
    "scrolled": true
   },
   "outputs": [
    {
     "data": {
      "text/html": [
       "<div>\n",
       "<style scoped>\n",
       "    .dataframe tbody tr th:only-of-type {\n",
       "        vertical-align: middle;\n",
       "    }\n",
       "\n",
       "    .dataframe tbody tr th {\n",
       "        vertical-align: top;\n",
       "    }\n",
       "\n",
       "    .dataframe thead th {\n",
       "        text-align: right;\n",
       "    }\n",
       "</style>\n",
       "<table border=\"1\" class=\"dataframe\">\n",
       "  <thead>\n",
       "    <tr style=\"text-align: right;\">\n",
       "      <th></th>\n",
       "      <th>Account_Length</th>\n",
       "      <th>Area_Code</th>\n",
       "      <th>VMail_Message</th>\n",
       "      <th>Day_Mins</th>\n",
       "      <th>Day_Calls</th>\n",
       "      <th>Day_Charge</th>\n",
       "      <th>Eve_Mins</th>\n",
       "      <th>Eve_Calls</th>\n",
       "      <th>Eve_Charge</th>\n",
       "      <th>Night_Mins</th>\n",
       "      <th>Night_Calls</th>\n",
       "      <th>Night_Charge</th>\n",
       "      <th>Intl_Mins</th>\n",
       "      <th>Intl_Calls</th>\n",
       "      <th>Intl_Charge</th>\n",
       "      <th>CustServ_Calls</th>\n",
       "    </tr>\n",
       "  </thead>\n",
       "  <tbody>\n",
       "    <tr>\n",
       "      <th>count</th>\n",
       "      <td>3333.000000</td>\n",
       "      <td>3333.000000</td>\n",
       "      <td>3333.000000</td>\n",
       "      <td>3333.000000</td>\n",
       "      <td>3333.000000</td>\n",
       "      <td>3333.000000</td>\n",
       "      <td>3333.000000</td>\n",
       "      <td>3333.000000</td>\n",
       "      <td>3333.000000</td>\n",
       "      <td>3333.000000</td>\n",
       "      <td>3333.000000</td>\n",
       "      <td>3333.000000</td>\n",
       "      <td>3333.000000</td>\n",
       "      <td>3333.000000</td>\n",
       "      <td>3333.000000</td>\n",
       "      <td>3333.000000</td>\n",
       "    </tr>\n",
       "    <tr>\n",
       "      <th>mean</th>\n",
       "      <td>101.064806</td>\n",
       "      <td>437.182418</td>\n",
       "      <td>8.099010</td>\n",
       "      <td>179.775098</td>\n",
       "      <td>100.435644</td>\n",
       "      <td>30.562307</td>\n",
       "      <td>200.980348</td>\n",
       "      <td>100.114311</td>\n",
       "      <td>17.083540</td>\n",
       "      <td>200.872037</td>\n",
       "      <td>100.107711</td>\n",
       "      <td>9.039325</td>\n",
       "      <td>10.237294</td>\n",
       "      <td>4.479448</td>\n",
       "      <td>2.764581</td>\n",
       "      <td>1.562856</td>\n",
       "    </tr>\n",
       "    <tr>\n",
       "      <th>std</th>\n",
       "      <td>39.822106</td>\n",
       "      <td>42.371290</td>\n",
       "      <td>13.688365</td>\n",
       "      <td>54.467389</td>\n",
       "      <td>20.069084</td>\n",
       "      <td>9.259435</td>\n",
       "      <td>50.713844</td>\n",
       "      <td>19.922625</td>\n",
       "      <td>4.310668</td>\n",
       "      <td>50.573847</td>\n",
       "      <td>19.568609</td>\n",
       "      <td>2.275873</td>\n",
       "      <td>2.791840</td>\n",
       "      <td>2.461214</td>\n",
       "      <td>0.753773</td>\n",
       "      <td>1.315491</td>\n",
       "    </tr>\n",
       "    <tr>\n",
       "      <th>min</th>\n",
       "      <td>1.000000</td>\n",
       "      <td>408.000000</td>\n",
       "      <td>0.000000</td>\n",
       "      <td>0.000000</td>\n",
       "      <td>0.000000</td>\n",
       "      <td>0.000000</td>\n",
       "      <td>0.000000</td>\n",
       "      <td>0.000000</td>\n",
       "      <td>0.000000</td>\n",
       "      <td>23.200000</td>\n",
       "      <td>33.000000</td>\n",
       "      <td>1.040000</td>\n",
       "      <td>0.000000</td>\n",
       "      <td>0.000000</td>\n",
       "      <td>0.000000</td>\n",
       "      <td>0.000000</td>\n",
       "    </tr>\n",
       "    <tr>\n",
       "      <th>25%</th>\n",
       "      <td>74.000000</td>\n",
       "      <td>408.000000</td>\n",
       "      <td>0.000000</td>\n",
       "      <td>143.700000</td>\n",
       "      <td>87.000000</td>\n",
       "      <td>24.430000</td>\n",
       "      <td>166.600000</td>\n",
       "      <td>87.000000</td>\n",
       "      <td>14.160000</td>\n",
       "      <td>167.000000</td>\n",
       "      <td>87.000000</td>\n",
       "      <td>7.520000</td>\n",
       "      <td>8.500000</td>\n",
       "      <td>3.000000</td>\n",
       "      <td>2.300000</td>\n",
       "      <td>1.000000</td>\n",
       "    </tr>\n",
       "    <tr>\n",
       "      <th>50%</th>\n",
       "      <td>101.000000</td>\n",
       "      <td>415.000000</td>\n",
       "      <td>0.000000</td>\n",
       "      <td>179.400000</td>\n",
       "      <td>101.000000</td>\n",
       "      <td>30.500000</td>\n",
       "      <td>201.400000</td>\n",
       "      <td>100.000000</td>\n",
       "      <td>17.120000</td>\n",
       "      <td>201.200000</td>\n",
       "      <td>100.000000</td>\n",
       "      <td>9.050000</td>\n",
       "      <td>10.300000</td>\n",
       "      <td>4.000000</td>\n",
       "      <td>2.780000</td>\n",
       "      <td>1.000000</td>\n",
       "    </tr>\n",
       "    <tr>\n",
       "      <th>75%</th>\n",
       "      <td>127.000000</td>\n",
       "      <td>510.000000</td>\n",
       "      <td>20.000000</td>\n",
       "      <td>216.400000</td>\n",
       "      <td>114.000000</td>\n",
       "      <td>36.790000</td>\n",
       "      <td>235.300000</td>\n",
       "      <td>114.000000</td>\n",
       "      <td>20.000000</td>\n",
       "      <td>235.300000</td>\n",
       "      <td>113.000000</td>\n",
       "      <td>10.590000</td>\n",
       "      <td>12.100000</td>\n",
       "      <td>6.000000</td>\n",
       "      <td>3.270000</td>\n",
       "      <td>2.000000</td>\n",
       "    </tr>\n",
       "    <tr>\n",
       "      <th>max</th>\n",
       "      <td>243.000000</td>\n",
       "      <td>510.000000</td>\n",
       "      <td>51.000000</td>\n",
       "      <td>350.800000</td>\n",
       "      <td>165.000000</td>\n",
       "      <td>59.640000</td>\n",
       "      <td>363.700000</td>\n",
       "      <td>170.000000</td>\n",
       "      <td>30.910000</td>\n",
       "      <td>395.000000</td>\n",
       "      <td>175.000000</td>\n",
       "      <td>17.770000</td>\n",
       "      <td>20.000000</td>\n",
       "      <td>20.000000</td>\n",
       "      <td>5.400000</td>\n",
       "      <td>9.000000</td>\n",
       "    </tr>\n",
       "  </tbody>\n",
       "</table>\n",
       "</div>"
      ],
      "text/plain": [
       "       Account_Length    Area_Code  VMail_Message     Day_Mins    Day_Calls  \\\n",
       "count     3333.000000  3333.000000    3333.000000  3333.000000  3333.000000   \n",
       "mean       101.064806   437.182418       8.099010   179.775098   100.435644   \n",
       "std         39.822106    42.371290      13.688365    54.467389    20.069084   \n",
       "min          1.000000   408.000000       0.000000     0.000000     0.000000   \n",
       "25%         74.000000   408.000000       0.000000   143.700000    87.000000   \n",
       "50%        101.000000   415.000000       0.000000   179.400000   101.000000   \n",
       "75%        127.000000   510.000000      20.000000   216.400000   114.000000   \n",
       "max        243.000000   510.000000      51.000000   350.800000   165.000000   \n",
       "\n",
       "        Day_Charge     Eve_Mins    Eve_Calls   Eve_Charge   Night_Mins  \\\n",
       "count  3333.000000  3333.000000  3333.000000  3333.000000  3333.000000   \n",
       "mean     30.562307   200.980348   100.114311    17.083540   200.872037   \n",
       "std       9.259435    50.713844    19.922625     4.310668    50.573847   \n",
       "min       0.000000     0.000000     0.000000     0.000000    23.200000   \n",
       "25%      24.430000   166.600000    87.000000    14.160000   167.000000   \n",
       "50%      30.500000   201.400000   100.000000    17.120000   201.200000   \n",
       "75%      36.790000   235.300000   114.000000    20.000000   235.300000   \n",
       "max      59.640000   363.700000   170.000000    30.910000   395.000000   \n",
       "\n",
       "       Night_Calls  Night_Charge    Intl_Mins   Intl_Calls  Intl_Charge  \\\n",
       "count  3333.000000   3333.000000  3333.000000  3333.000000  3333.000000   \n",
       "mean    100.107711      9.039325    10.237294     4.479448     2.764581   \n",
       "std      19.568609      2.275873     2.791840     2.461214     0.753773   \n",
       "min      33.000000      1.040000     0.000000     0.000000     0.000000   \n",
       "25%      87.000000      7.520000     8.500000     3.000000     2.300000   \n",
       "50%     100.000000      9.050000    10.300000     4.000000     2.780000   \n",
       "75%     113.000000     10.590000    12.100000     6.000000     3.270000   \n",
       "max     175.000000     17.770000    20.000000    20.000000     5.400000   \n",
       "\n",
       "       CustServ_Calls  \n",
       "count     3333.000000  \n",
       "mean         1.562856  \n",
       "std          1.315491  \n",
       "min          0.000000  \n",
       "25%          1.000000  \n",
       "50%          1.000000  \n",
       "75%          2.000000  \n",
       "max          9.000000  "
      ]
     },
     "metadata": {},
     "output_type": "display_data"
    },
    {
     "name": "stdout",
     "output_type": "stream",
     "text": [
      "Unique Area Codes: 3\n",
      "Unique States: 51\n",
      "Unique Phone Numbers 3333\n"
     ]
    }
   ],
   "source": [
    "# Summary statistics\n",
    "display(churn.describe())\n",
    "print('Unique Area Codes:', len(churn.Area_Code.unique()))\n",
    "print('Unique States:', len(churn.State.unique()))\n",
    "print('Unique Phone Numbers', len(churn.Phone.unique()))\n",
    "\n",
    "# Drop ficticious phone numbers\n",
    "churn.drop(['Area_Code', 'Phone', 'State'], axis=1, inplace=True)"
   ]
  },
  {
   "cell_type": "markdown",
   "metadata": {},
   "source": [
    "Looking at the summary statistics, we can see that there are only 3 distinct area codes, but 51 unique states (50 states + DC). One possibility is that the phone numbers were randomized or made up to preserve privacy. This explains the discrepency is the phone number data. Thus we'll drop these ficticious values."
   ]
  },
  {
   "cell_type": "code",
   "execution_count": 4,
   "metadata": {},
   "outputs": [
    {
     "data": {
      "image/png": "[encoded data removed]",
      "text/plain": [
       "<Figure size 648x504 with 1 Axes>"
      ]
     },
     "metadata": {
      "needs_background": "light"
     },
     "output_type": "display_data"
    },
    {
     "name": "stdout",
     "output_type": "stream",
     "text": [
      "True Customer Churn Percentage: 14.49%\n"
     ]
    }
   ],
   "source": [
    "# Set up figure\n",
    "figure, ax = plt.subplots(figsize=(9,7))\n",
    "\n",
    "# Draw counts barplot\n",
    "sns.countplot(x='Churn?', data=churn)\n",
    "\n",
    "ax.set(title='Customer Churn Counts')\n",
    "\n",
    "plt.show()\n",
    "\n",
    "print('True Customer Churn Percentage: {:.2f}%'.format((churn['Churn?'] == 1).sum()/len(churn['Churn?']) * 100))\n"
   ]
  },
  {
   "cell_type": "markdown",
   "metadata": {},
   "source": [
    "## Modeling"
   ]
  },
  {
   "cell_type": "code",
   "execution_count": 5,
   "metadata": {
    "scrolled": true
   },
   "outputs": [],
   "source": [
    "# Split data into train and test sets\n",
    "xtrain, xtest, ytrain, ytest = train_test_split(churn.loc[:, churn.columns != 'Churn?'], churn['Churn?'],\n",
    "                                                test_size=.2)\n"
   ]
  },
  {
   "cell_type": "markdown",
   "metadata": {},
   "source": [
    "**Logistic Regression**"
   ]
  },
  {
   "cell_type": "code",
   "execution_count": 6,
   "metadata": {},
   "outputs": [
    {
     "data": {
      "text/plain": [
       "array([[548,  21],\n",
       "       [ 79,  19]])"
      ]
     },
     "metadata": {},
     "output_type": "display_data"
    },
    {
     "name": "stdout",
     "output_type": "stream",
     "text": [
      "Logistic Regression Accuracy Score: 0.8501\n"
     ]
    }
   ],
   "source": [
    "# Fit Logistic Regression Model\n",
    "logreg = LogisticRegression(C=100000, solver='lbfgs', max_iter=2500).fit(xtrain, ytrain)\n",
    "\n",
    "# Use cross validation to get prediction values\n",
    "log_preds = cross_val_predict(logreg, xtest, ytest, cv=5)\n",
    "\n",
    "# Save confusion matrix for cost assignment \n",
    "log_mat = confusion_matrix(ytest, log_preds)\n",
    "display(log_mat)\n",
    "\n",
    "# Accuracy Score\n",
    "log_score = cross_val_score(logreg, xtest, ytest, cv=5).mean()\n",
    "print('Logistic Regression Accuracy Score: {:.4f}'.format(log_score))"
   ]
  },
  {
   "cell_type": "markdown",
   "metadata": {},
   "source": [
    "**Decision Tree**\n"
   ]
  },
  {
   "cell_type": "code",
   "execution_count": 7,
   "metadata": {
    "scrolled": false
   },
   "outputs": [
    {
     "data": {
      "text/plain": [
       "array([[528,  41],\n",
       "       [ 31,  67]])"
      ]
     },
     "metadata": {},
     "output_type": "display_data"
    },
    {
     "name": "stdout",
     "output_type": "stream",
     "text": [
      "Decision Tree Accuracy Score: 0.9010\n"
     ]
    },
    {
     "data": {
      "image/png": "[encoded data removed]",
      "text/plain": [
       "<Figure size 648x504 with 1 Axes>"
      ]
     },
     "metadata": {
      "needs_background": "light"
     },
     "output_type": "display_data"
    }
   ],
   "source": [
    "# Fit Decision Tree\n",
    "tree = DecisionTreeClassifier().fit(xtrain, ytrain)\n",
    "\n",
    "# Use cross validation to get prediction values\n",
    "tree_preds = cross_val_predict(tree, xtest, ytest, cv=5)\n",
    "\n",
    "# Save confusion matrix for cost assignment\n",
    "tree_mat = confusion_matrix(ytest, tree_preds)\n",
    "display(tree_mat)\n",
    "\n",
    "# Accuracy Score\n",
    "tree_score = cross_val_score(tree, xtest, ytest, cv=5).mean()\n",
    "print('Decision Tree Accuracy Score: {:.4f}'.format(tree_score))\n",
    "\n",
    "# Most important features in tree\n",
    "tree_features = dict(zip(xtrain.columns, tree.feature_importances_))\n",
    "\n",
    "fig, ax = plt.subplots(figsize=(9,7))\n",
    "\n",
    "sns.barplot(list(tree_features.values()), list(tree_features.keys()), palette='rocket')\n",
    "\n",
    "ax.set(title='Decision Tree Feature Importance', xlabel='Feature Importance', ylabel='Features')\n",
    "plt.show()"
   ]
  },
  {
   "cell_type": "markdown",
   "metadata": {},
   "source": [
    "**Random Forest**"
   ]
  },
  {
   "cell_type": "code",
   "execution_count": 8,
   "metadata": {
    "scrolled": false
   },
   "outputs": [
    {
     "data": {
      "text/plain": [
       "array([[559,  10],\n",
       "       [ 41,  57]])"
      ]
     },
     "metadata": {},
     "output_type": "display_data"
    },
    {
     "name": "stdout",
     "output_type": "stream",
     "text": [
      "Random Forest Accuracy Score: 0.9280\n"
     ]
    },
    {
     "data": {
      "image/png": "[encoded data removed]",
      "text/plain": [
       "<Figure size 648x504 with 1 Axes>"
      ]
     },
     "metadata": {
      "needs_background": "light"
     },
     "output_type": "display_data"
    }
   ],
   "source": [
    "# Fit random forest\n",
    "forest = RandomForestClassifier(max_depth=9, n_estimators=100).fit(xtrain, ytrain)\n",
    "\n",
    "# Use cross validation to get prediction values\n",
    "forest_preds = cross_val_predict(forest, xtest, ytest, cv=5)\n",
    "\n",
    "# Save confusion matrix for cost assignment\n",
    "forest_mat = confusion_matrix(ytest, forest_preds)\n",
    "display(forest_mat)\n",
    "\n",
    "# Accuracy Score\n",
    "forest_score = cross_val_score(forest, xtest, ytest, cv=5).mean()\n",
    "print('Random Forest Accuracy Score: {:.4f}'.format(forest_score))\n",
    "\n",
    "# Most important features in random forest\n",
    "forest_features = dict(zip(xtrain.columns, forest.feature_importances_))\n",
    "\n",
    "fig, ax = plt.subplots(figsize=(9,7))\n",
    "\n",
    "sns.barplot(list(forest_features.values()), list(forest_features.keys()), palette='rocket')\n",
    "\n",
    "ax.set(title='Random Forest Feature Importance', xlabel='Feature Importance', ylabel='Features')\n",
    "plt.show()"
   ]
  },
  {
   "cell_type": "markdown",
   "metadata": {},
   "source": [
    "**XGBoosting**"
   ]
  },
  {
   "cell_type": "code",
   "execution_count": 9,
   "metadata": {},
   "outputs": [
    {
     "data": {
      "text/plain": [
       "array([[559,  10],\n",
       "       [ 33,  65]])"
      ]
     },
     "metadata": {},
     "output_type": "display_data"
    },
    {
     "name": "stdout",
     "output_type": "stream",
     "text": [
      "XGBoost Accuracy Score: 0.9355\n"
     ]
    }
   ],
   "source": [
    "# Fit XGBoost\n",
    "boost = XGBClassifier().fit(xtrain, ytrain)\n",
    "\n",
    "# Use cross validation to get predictions\n",
    "boost_preds = cross_val_predict(boost, xtest, ytest, cv=5)\n",
    "\n",
    "# Save confusion matrix for cost assignment\n",
    "boost_mat = confusion_matrix(ytest, boost_preds)\n",
    "display(boost_mat)\n",
    "\n",
    "# Accuracy Score\n",
    "boost_score = cross_val_score(boost, xtest, ytest, cv=5).mean()\n",
    "print('XGBoost Accuracy Score: {:.4f}'.format(boost_score))"
   ]
  },
  {
   "cell_type": "markdown",
   "metadata": {},
   "source": [
    "## Assigning Costs"
   ]
  },
  {
   "cell_type": "markdown",
   "metadata": {},
   "source": [
    "The associated costs with customer churn are going to vary depending on the specific actions that the business takes. For the purposes of this project, I will use the assigned costs Denis uses for his model.\n",
    "* True Negative: \\$0\n",
    "* False Negative: \\$500\n",
    "* True Positie: \\$100\n",
    "* False Positive: \\$100"
   ]
  },
  {
   "cell_type": "code",
   "execution_count": 10,
   "metadata": {},
   "outputs": [],
   "source": [
    "def cost(TN, FN, TP, FP):\n",
    "    \"\"\" Returns total cost per customer of model's predictions\n",
    "    \n",
    "    Parameters:\n",
    "    TN (int): Number of True Negatives\n",
    "    FN (int): Number of False Negatives\n",
    "    TP (int): Number of True Positives\n",
    "    FP (int): Number of False Positives\n",
    "    \n",
    "    Returns:\n",
    "    cost (int): Total cost\n",
    "    \n",
    "    \"\"\"\n",
    "    \n",
    "    cost = (0*TN + 500*FN + 100*TP + 100*FP) / (TN + FN + TP + FP)\n",
    "    return cost\n"
   ]
  },
  {
   "cell_type": "code",
   "execution_count": 11,
   "metadata": {},
   "outputs": [
    {
     "name": "stdout",
     "output_type": "stream",
     "text": [
      "Customer Churn Cost w/o ML: $72.46\n"
     ]
    }
   ],
   "source": [
    "# Churn costs w/o ML\n",
    "no_model_churn = (churn['Churn?'] == 1).sum()/len(churn['Churn?'])\n",
    "\n",
    "# Cost equal to $500 for all lost customers\n",
    "no_model_cost = 500 * no_model_churn\n",
    "\n",
    "print('Customer Churn Cost w/o ML: ${:.2f}'.format(no_model_cost))"
   ]
  },
  {
   "cell_type": "code",
   "execution_count": 12,
   "metadata": {},
   "outputs": [
    {
     "name": "stdout",
     "output_type": "stream",
     "text": [
      "Customer Churn Cost using Logistic Regression: $65.22\n"
     ]
    }
   ],
   "source": [
    "# Churn costs w/ Logistic Regression\n",
    "log_cost = cost(TN=log_mat[0,0], FN=log_mat[1,0], TP=log_mat[1,1], FP=log_mat[0,1])\n",
    "print('Customer Churn Cost using Logistic Regression: ${:.2f}'.format(log_cost))"
   ]
  },
  {
   "cell_type": "code",
   "execution_count": 13,
   "metadata": {},
   "outputs": [
    {
     "name": "stdout",
     "output_type": "stream",
     "text": [
      "Customer Churn Cost using Decision Tree: $39.43\n"
     ]
    }
   ],
   "source": [
    "# Churn costs w/ Decision Tree\n",
    "tree_cost = cost(TN=tree_mat[0,0], FN=tree_mat[1,0], TP=tree_mat[1,1], FP=tree_mat[0,1])\n",
    "print('Customer Churn Cost using Decision Tree: ${:.2f}'.format(tree_cost))"
   ]
  },
  {
   "cell_type": "code",
   "execution_count": 14,
   "metadata": {},
   "outputs": [
    {
     "name": "stdout",
     "output_type": "stream",
     "text": [
      "Customer Churn Cost using Random Forest: $40.78\n"
     ]
    }
   ],
   "source": [
    "# Churn costs w/ Random Forest\n",
    "forest_cost = cost(TN=forest_mat[0,0], FN=forest_mat[1,0], TP=forest_mat[1,1], FP=forest_mat[0,1])\n",
    "print('Customer Churn Cost using Random Forest: ${:.2f}'.format(forest_cost))"
   ]
  },
  {
   "cell_type": "code",
   "execution_count": 15,
   "metadata": {},
   "outputs": [
    {
     "name": "stdout",
     "output_type": "stream",
     "text": [
      "Customer Churn Cost using XGBoosted Model: $35.98\n"
     ]
    }
   ],
   "source": [
    "# Churn costs w/ Boosting\n",
    "boost_cost = cost(TN=boost_mat[0,0], FN=boost_mat[1,0], TP=boost_mat[1,1], FP=boost_mat[0,1])\n",
    "print('Customer Churn Cost using XGBoosted Model: ${:.2f}'.format(boost_cost))"
   ]
  },
  {
   "cell_type": "code",
   "execution_count": 16,
   "metadata": {},
   "outputs": [
    {
     "data": {
      "image/png": "[encoded data removed]",
      "text/plain": [
       "<Figure size 1080x648 with 1 Axes>"
      ]
     },
     "metadata": {
      "needs_background": "light"
     },
     "output_type": "display_data"
    }
   ],
   "source": [
    "# Initialize figure\n",
    "fig, ax = plt.subplots(figsize=(15,9))\n",
    "\n",
    "# Data for barplots\n",
    "costs_data = {\n",
    "    'No ML': no_model_cost,\n",
    "    'Logistic Regression': log_cost,\n",
    "    'Decision Tree': tree_cost,\n",
    "    'Random Forest': forest_cost,\n",
    "    'XGBoost': boost_cost\n",
    "}\n",
    "\n",
    "# bar plot\n",
    "sns.barplot(list(costs_data.keys()), list(costs_data.values()))\n",
    "\n",
    "ax.set(title='Customer Churn Costs by Machine Learning Model',\n",
    "       xlabel='Machine Learning Model', ylabel='Average Churn Cost per Customer')\n",
    "\n",
    "plt.show()"
   ]
  },
  {
   "cell_type": "markdown",
   "metadata": {},
   "source": [
    "## Conclusions"
   ]
  },
  {
   "cell_type": "markdown",
   "metadata": {},
   "source": [
    "By using machine learning, I was able to significantly reduce the costs associated with customer churn. Without using my models we had an average customer churn cost of \\\\$72.46, and I was able to bring that down by \\\\$36.48 to a total cost of \\\\$35.98. That represents a ~50\\% decrease in customer churn costs, and for an operator with 100,000 customers that means over \\\\$3.5MM in savings."
   ]
  },
  {
   "cell_type": "markdown",
   "metadata": {},
   "source": [
    "Using my knowledge of various machine learning techniques, I was able to improve upon the original papers cost savings of \\\\$22.15 and increase the savings all the way to \\\\$36.48. That's ~60\\% in extra cost savings and \\\\$1.5MM in extra cash given 100,000 customers!"
   ]
  },
  {
   "cell_type": "code",
   "execution_count": null,
   "metadata": {},
   "outputs": [],
   "source": []
  }
 ],
 "metadata": {
  "kernelspec": {
   "display_name": "Python 3",
   "language": "python",
   "name": "python3"
  },
  "language_info": {
   "codemirror_mode": {
    "name": "ipython",
    "version": 3
   },
   "file_extension": ".py",
   "mimetype": "text/x-python",
   "name": "python",
   "nbconvert_exporter": "python",
   "pygments_lexer": "ipython3",
   "version": "3.7.3"
  }
 },
 "nbformat": 4,
 "nbformat_minor": 2
}
